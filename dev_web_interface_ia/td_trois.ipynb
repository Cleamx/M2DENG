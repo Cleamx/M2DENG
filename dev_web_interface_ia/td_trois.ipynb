{
 "cells": [
  {
   "cell_type": "code",
   "execution_count": 1,
   "id": "d4463c24",
   "metadata": {},
   "outputs": [
    {
     "name": "stderr",
     "output_type": "stream",
     "text": [
      "/Users/clementinemirande/Desktop/M2/M2DENG/dev_web_interface_ia/venv/lib/python3.12/site-packages/tqdm/auto.py:21: TqdmWarning: IProgress not found. Please update jupyter and ipywidgets. See https://ipywidgets.readthedocs.io/en/stable/user_install.html\n",
      "  from .autonotebook import tqdm as notebook_tqdm\n"
     ]
    }
   ],
   "source": [
    "from transformers import AutoTokenizer, AutoModelForSequenceClassification\n",
    "import torch\n",
    "import numpy as np\n",
    "import pandas as pd\n",
    "import seaborn as sns\n",
    "from sklearn.metrics import confusion_matrix"
   ]
  },
  {
   "cell_type": "code",
   "execution_count": 2,
   "id": "a7514660",
   "metadata": {},
   "outputs": [],
   "source": [
    "tokenizer = AutoTokenizer.from_pretrained(\"nlptown/bert-base-multilingual-uncased-sentiment\")\n",
    "model = AutoModelForSequenceClassification.from_pretrained(\"nlptown/bert-base-multilingual-uncased-sentiment\")"
   ]
  },
  {
   "cell_type": "code",
   "execution_count": 3,
   "id": "b2b5ac37",
   "metadata": {},
   "outputs": [],
   "source": [
    "train = pd.read_csv('data/train.csv')\n",
    "valid = pd.read_csv('data/valid.csv')\n",
    "test = pd.read_csv('data/test.csv')"
   ]
  },
  {
   "cell_type": "code",
   "execution_count": 4,
   "id": "fe1ae172",
   "metadata": {},
   "outputs": [],
   "source": [
    "x_train, y_train = train['review'], train['polarity']\n",
    "x_valid, y_valid = valid['review'], valid['polarity']\n",
    "x_test, y_test = test['review'], test['polarity']"
   ]
  },
  {
   "cell_type": "code",
   "execution_count": 5,
   "id": "1ecf46f7",
   "metadata": {},
   "outputs": [],
   "source": [
    "token = tokenizer.encode(x_train[0], return_tensors='pt')"
   ]
  },
  {
   "cell_type": "code",
   "execution_count": 6,
   "id": "999b466f",
   "metadata": {},
   "outputs": [
    {
     "data": {
      "text/plain": [
       "SequenceClassifierOutput(loss=None, logits=tensor([[ 0.4579,  1.2332,  0.4029, -0.3338, -1.4598]],\n",
       "       grad_fn=<AddmmBackward0>), hidden_states=None, attentions=None)"
      ]
     },
     "execution_count": 6,
     "metadata": {},
     "output_type": "execute_result"
    }
   ],
   "source": [
    "results = model(token)\n",
    "results"
   ]
  },
  {
   "cell_type": "code",
   "execution_count": 7,
   "id": "666b6df5",
   "metadata": {},
   "outputs": [],
   "source": [
    "tokens = tokenizer(x_test.iloc[:100].tolist(), return_tensors='pt', padding=True, truncation=True, max_length=512)"
   ]
  },
  {
   "cell_type": "code",
   "execution_count": 8,
   "id": "fc6921f5",
   "metadata": {},
   "outputs": [
    {
     "data": {
      "text/plain": [
       "{'input_ids': tensor([[  101, 18115, 10275,  ...,     0,     0,     0],\n",
       "        [  101, 10149,   156,  ...,     0,     0,     0],\n",
       "        [  101, 10119, 47909,  ...,     0,     0,     0],\n",
       "        ...,\n",
       "        [  101, 52197,   119,  ...,     0,     0,     0],\n",
       "        [  101, 10130, 11291,  ...,     0,     0,     0],\n",
       "        [  101, 10646,   120,  ...,     0,     0,     0]]), 'token_type_ids': tensor([[0, 0, 0,  ..., 0, 0, 0],\n",
       "        [0, 0, 0,  ..., 0, 0, 0],\n",
       "        [0, 0, 0,  ..., 0, 0, 0],\n",
       "        ...,\n",
       "        [0, 0, 0,  ..., 0, 0, 0],\n",
       "        [0, 0, 0,  ..., 0, 0, 0],\n",
       "        [0, 0, 0,  ..., 0, 0, 0]]), 'attention_mask': tensor([[1, 1, 1,  ..., 0, 0, 0],\n",
       "        [1, 1, 1,  ..., 0, 0, 0],\n",
       "        [1, 1, 1,  ..., 0, 0, 0],\n",
       "        ...,\n",
       "        [1, 1, 1,  ..., 0, 0, 0],\n",
       "        [1, 1, 1,  ..., 0, 0, 0],\n",
       "        [1, 1, 1,  ..., 0, 0, 0]])}"
      ]
     },
     "execution_count": 8,
     "metadata": {},
     "output_type": "execute_result"
    }
   ],
   "source": [
    "tokens"
   ]
  },
  {
   "cell_type": "code",
   "execution_count": 9,
   "id": "5e130add",
   "metadata": {},
   "outputs": [],
   "source": [
    "results = model(**tokens)"
   ]
  },
  {
   "cell_type": "code",
   "execution_count": 10,
   "id": "36fbf175",
   "metadata": {},
   "outputs": [
    {
     "data": {
      "text/plain": [
       "SequenceClassifierOutput(loss=None, logits=tensor([[-3.1408, -3.0430, -0.5353,  2.1683,  3.6031],\n",
       "        [-0.8757,  4.6047,  1.3214, -2.0374, -2.3839],\n",
       "        [-2.2569, -1.6205,  0.2924,  1.3981,  1.6413],\n",
       "        [ 0.2213,  2.1934,  1.8643, -0.7695, -2.6861],\n",
       "        [ 2.8219,  2.6977,  0.8728, -2.0433, -3.3974],\n",
       "        [-2.7026, -0.9195,  0.8891,  1.4217,  1.0583],\n",
       "        [-2.9112, -1.1686,  2.0767,  2.0348,  0.0557],\n",
       "        [-0.9851, -1.3573, -1.1249,  0.4689,  2.2867],\n",
       "        [-3.5273, -2.8079,  0.4259,  2.6865,  2.5788],\n",
       "        [ 1.3458,  2.5641,  1.3516, -1.1912, -3.3469],\n",
       "        [-3.8272, -1.5376,  2.2057,  2.7297,  0.2701],\n",
       "        [-3.2139, -2.8003, -1.1336,  2.0234,  4.0730],\n",
       "        [-1.8587,  0.8932,  1.8174,  0.5117, -1.1476],\n",
       "        [-3.3270, -2.4003,  0.7931,  2.2695,  2.3007],\n",
       "        [ 0.6857,  0.9501,  0.3977, -0.8220, -0.9843],\n",
       "        [ 3.9449,  2.8433, -0.0156, -2.5272, -3.2834],\n",
       "        [-3.3171, -2.0177,  1.3597,  2.3301,  1.4299],\n",
       "        [-1.6109, -0.7903,  0.0144,  0.7123,  1.0793],\n",
       "        [-2.7554, -1.3429,  1.5309,  1.8111,  0.5720],\n",
       "        [ 0.8380,  0.7382,  0.1714, -0.5068, -0.9663],\n",
       "        [ 1.8863,  1.7601,  0.0641, -1.2693, -1.8997],\n",
       "        [ 0.2228,  0.2613,  0.0882, -0.2883, -0.2327],\n",
       "        [-3.0144, -0.7937,  1.3560,  1.6650,  0.4885],\n",
       "        [-0.4373,  0.3294, -0.0743,  0.1880, -0.0689],\n",
       "        [-2.4218, -0.7968,  0.7652,  1.4630,  0.9320],\n",
       "        [-3.3523, -2.0673,  0.5008,  2.0964,  2.2617],\n",
       "        [-3.1059, -0.3213,  2.3568,  1.6035, -0.4450],\n",
       "        [ 1.8315,  2.1365,  0.3514, -1.5034, -2.2613],\n",
       "        [-0.9408,  1.5326,  1.2586,  0.1449, -1.7655],\n",
       "        [-2.7025, -1.2035,  0.7616,  1.7517,  1.1785],\n",
       "        [-3.4449, -1.8286,  1.5957,  2.5058,  0.7827],\n",
       "        [ 4.3976,  2.3226, -1.0989, -2.8614, -1.9772],\n",
       "        [-2.5640, -1.0334, -0.0955,  1.2671,  1.7974],\n",
       "        [-1.4056, -0.6146,  0.2937,  0.7279,  0.8126],\n",
       "        [ 3.6012,  3.7116,  0.2145, -3.0530, -3.6044],\n",
       "        [-3.6581, -2.6574,  0.4389,  2.4590,  2.6992],\n",
       "        [-2.6323, -2.0453, -0.1680,  1.6222,  2.6236],\n",
       "        [ 2.2471,  2.2605,  0.3783, -1.6046, -2.5992],\n",
       "        [-3.0287, -2.8433, -0.6691,  1.8796,  3.6893],\n",
       "        [ 1.6652,  3.5309,  1.6583, -1.9421, -4.0479],\n",
       "        [-3.2580, -1.6256,  1.9457,  2.9864, -0.0595],\n",
       "        [-2.8989, -2.8589, -0.3376,  1.9070,  3.3075],\n",
       "        [ 0.0068,  1.4251,  0.8781, -0.3969, -1.6450],\n",
       "        [-3.0781, -0.3146,  2.6825,  1.8325, -1.0449],\n",
       "        [-0.6668,  1.9348,  2.0257, -0.1054, -2.8634],\n",
       "        [-3.5714, -1.8688,  1.6377,  2.2535,  1.2915],\n",
       "        [-1.9485,  0.2975,  1.7042,  1.1919, -0.9032],\n",
       "        [ 2.9383,  3.1243,  0.5052, -2.1575, -3.4751],\n",
       "        [ 1.8573,  1.9284,  0.2681, -1.3722, -2.1090],\n",
       "        [ 1.2641,  1.2679, -0.3130, -1.0313, -0.9526],\n",
       "        [-0.0883,  0.3191,  0.2525, -0.2462, -0.2568],\n",
       "        [ 1.6436,  1.7547,  0.4404, -1.1670, -2.1414],\n",
       "        [ 1.7017,  0.7631,  0.0106, -0.4810, -1.7503],\n",
       "        [-2.3325, -1.1479,  0.7053,  1.3216,  1.3052],\n",
       "        [-1.4326,  1.2971,  1.9266,  0.5745, -1.9587],\n",
       "        [ 1.9213,  2.2422,  0.3712, -1.5294, -2.3834],\n",
       "        [-0.3037,  0.5424,  0.4562, -0.1178, -0.3619],\n",
       "        [-2.5926, -2.4770, -0.3470,  1.8410,  2.8942],\n",
       "        [-3.0659, -2.3776, -0.5461,  1.8673,  3.4638],\n",
       "        [-0.6850,  2.1524,  2.1587, -0.4568, -2.5583],\n",
       "        [-1.2800,  1.1883,  1.9635,  0.1299, -1.5961],\n",
       "        [-2.2730, -1.7662, -0.1578,  1.2809,  2.4208],\n",
       "        [ 1.4732,  3.3477,  1.1836, -1.8361, -3.4356],\n",
       "        [-3.6492, -2.7918,  0.0346,  2.4471,  3.0119],\n",
       "        [ 3.7642,  3.0482,  0.0403, -2.6545, -3.2596],\n",
       "        [ 1.6750,  3.4552,  1.1768, -1.8652, -3.6350],\n",
       "        [-1.9722, -1.1925,  0.2228,  4.1966, -1.5933],\n",
       "        [-1.6765,  0.3458,  1.3885,  0.5861, -0.3984],\n",
       "        [-2.0432, -0.3909,  0.9571,  1.2487,  0.0435],\n",
       "        [ 0.1722,  1.4516,  0.3428, -0.9092, -1.0155],\n",
       "        [-3.2929, -1.7834,  0.9715,  2.2581,  1.4198],\n",
       "        [ 3.0063,  2.9503,  0.0065, -2.3151, -2.8938],\n",
       "        [ 3.9223,  0.6140, -1.2064, -2.2504, -0.6987],\n",
       "        [-3.3276, -2.1223,  0.6713,  2.3983,  1.7243],\n",
       "        [-0.6085,  1.9777,  1.5683, -0.4516, -2.0800],\n",
       "        [-0.3807,  1.9318,  1.7072, -0.3462, -2.4236],\n",
       "        [ 3.1812,  2.0893,  0.2037, -2.0886, -2.5015],\n",
       "        [-2.9688, -2.0442,  0.5332,  1.8661,  1.9431],\n",
       "        [-3.0589, -3.0334, -1.0046,  1.9010,  4.1787],\n",
       "        [-1.6595,  0.8435,  1.2842,  0.5859, -1.0166],\n",
       "        [-2.9812, -1.1108,  2.0683,  2.1794, -0.1058],\n",
       "        [-0.1949,  1.1088,  0.6261, -0.1410, -1.2401],\n",
       "        [-0.1641,  0.3961,  0.3163, -0.3170, -0.2539],\n",
       "        [-0.2632,  0.3082,  0.4449, -0.0279, -0.2906],\n",
       "        [-1.6432, -1.3237, -0.3322,  1.1058,  1.7283],\n",
       "        [-2.1845,  2.8340,  2.0474, -0.5309, -1.8734],\n",
       "        [-2.0259,  0.3781,  2.1008,  1.0275, -1.1261],\n",
       "        [-2.3358, -1.3893, -0.2481,  1.2496,  2.2638],\n",
       "        [-2.5779,  0.0193,  1.8744,  1.3458, -0.6282],\n",
       "        [-0.1979,  1.5357,  1.2545, -0.1744, -1.9958],\n",
       "        [ 0.2149,  1.7169,  1.0666, -0.5648, -2.0088],\n",
       "        [-3.0749, -1.5163,  1.2476,  1.9281,  1.1186],\n",
       "        [-3.2186, -3.1304, -0.2021,  2.4681,  3.2960],\n",
       "        [ 0.8849,  4.5490,  1.3747, -2.3674, -3.7043],\n",
       "        [-1.1543,  1.5163,  2.1595,  0.2390, -2.2580],\n",
       "        [-0.2837, -0.1330, -0.1112,  0.1280,  0.3362],\n",
       "        [-1.9931, -1.8976, -0.4160,  1.4491,  2.2885],\n",
       "        [ 5.2222,  2.0445, -1.1119, -2.8553, -2.4584],\n",
       "        [-2.2902, -0.2074,  2.0325,  1.3430, -0.6884],\n",
       "        [ 4.8758,  1.6454, -1.1001, -2.7907, -1.7893]],\n",
       "       grad_fn=<AddmmBackward0>), hidden_states=None, attentions=None)"
      ]
     },
     "execution_count": 10,
     "metadata": {},
     "output_type": "execute_result"
    }
   ],
   "source": [
    "results"
   ]
  },
  {
   "cell_type": "code",
   "execution_count": 13,
   "id": "fc7fe930",
   "metadata": {},
   "outputs": [],
   "source": [
    "best = torch.topk(results.logits, k=2, dim=1).indices"
   ]
  },
  {
   "cell_type": "code",
   "execution_count": 14,
   "id": "787b93b4",
   "metadata": {},
   "outputs": [],
   "source": [
    "avis = [val[1] if val[0] == 2 else val[0] for val in best]"
   ]
  },
  {
   "cell_type": "code",
   "execution_count": 15,
   "id": "e3dcfd29",
   "metadata": {},
   "outputs": [],
   "source": [
    "avis_bi = [0 if i in [0, 1] else 1 for i in avis]"
   ]
  },
  {
   "cell_type": "code",
   "execution_count": 16,
   "id": "aa37f8af",
   "metadata": {},
   "outputs": [
    {
     "data": {
      "text/plain": [
       "<Axes: >"
      ]
     },
     "execution_count": 16,
     "metadata": {},
     "output_type": "execute_result"
    },
    {
     "data": {
      "image/png": "[encoded data removed]",
      "text/plain": [
       "<Figure size 640x480 with 2 Axes>"
      ]
     },
     "metadata": {},
     "output_type": "display_data"
    }
   ],
   "source": [
    "sns.heatmap(confusion_matrix(avis_bi, y_test.iloc[:100]), annot=True)"
   ]
  },
  {
   "cell_type": "code",
   "execution_count": 17,
   "id": "dbd6dc73",
   "metadata": {},
   "outputs": [],
   "source": [
    "compare = pd.DataFrame({'pred': avis_bi, 'true': y_test.iloc[:100]})"
   ]
  },
  {
   "cell_type": "code",
   "execution_count": 18,
   "id": "b8ae91f3",
   "metadata": {},
   "outputs": [
    {
     "data": {
      "text/html": [
       "<div>\n",
       "<style scoped>\n",
       "    .dataframe tbody tr th:only-of-type {\n",
       "        vertical-align: middle;\n",
       "    }\n",
       "\n",
       "    .dataframe tbody tr th {\n",
       "        vertical-align: top;\n",
       "    }\n",
       "\n",
       "    .dataframe thead th {\n",
       "        text-align: right;\n",
       "    }\n",
       "</style>\n",
       "<table border=\"1\" class=\"dataframe\">\n",
       "  <thead>\n",
       "    <tr style=\"text-align: right;\">\n",
       "      <th></th>\n",
       "      <th>pred</th>\n",
       "      <th>true</th>\n",
       "    </tr>\n",
       "  </thead>\n",
       "  <tbody>\n",
       "    <tr>\n",
       "      <th>0</th>\n",
       "      <td>1</td>\n",
       "      <td>1</td>\n",
       "    </tr>\n",
       "    <tr>\n",
       "      <th>1</th>\n",
       "      <td>0</td>\n",
       "      <td>0</td>\n",
       "    </tr>\n",
       "    <tr>\n",
       "      <th>2</th>\n",
       "      <td>1</td>\n",
       "      <td>1</td>\n",
       "    </tr>\n",
       "    <tr>\n",
       "      <th>3</th>\n",
       "      <td>0</td>\n",
       "      <td>0</td>\n",
       "    </tr>\n",
       "    <tr>\n",
       "      <th>4</th>\n",
       "      <td>0</td>\n",
       "      <td>0</td>\n",
       "    </tr>\n",
       "    <tr>\n",
       "      <th>...</th>\n",
       "      <td>...</td>\n",
       "      <td>...</td>\n",
       "    </tr>\n",
       "    <tr>\n",
       "      <th>95</th>\n",
       "      <td>1</td>\n",
       "      <td>0</td>\n",
       "    </tr>\n",
       "    <tr>\n",
       "      <th>96</th>\n",
       "      <td>1</td>\n",
       "      <td>1</td>\n",
       "    </tr>\n",
       "    <tr>\n",
       "      <th>97</th>\n",
       "      <td>0</td>\n",
       "      <td>0</td>\n",
       "    </tr>\n",
       "    <tr>\n",
       "      <th>98</th>\n",
       "      <td>1</td>\n",
       "      <td>1</td>\n",
       "    </tr>\n",
       "    <tr>\n",
       "      <th>99</th>\n",
       "      <td>0</td>\n",
       "      <td>0</td>\n",
       "    </tr>\n",
       "  </tbody>\n",
       "</table>\n",
       "<p>100 rows × 2 columns</p>\n",
       "</div>"
      ],
      "text/plain": [
       "    pred  true\n",
       "0      1     1\n",
       "1      0     0\n",
       "2      1     1\n",
       "3      0     0\n",
       "4      0     0\n",
       "..   ...   ...\n",
       "95     1     0\n",
       "96     1     1\n",
       "97     0     0\n",
       "98     1     1\n",
       "99     0     0\n",
       "\n",
       "[100 rows x 2 columns]"
      ]
     },
     "execution_count": 18,
     "metadata": {},
     "output_type": "execute_result"
    }
   ],
   "source": [
    "compare"
   ]
  },
  {
   "cell_type": "code",
   "execution_count": 20,
   "id": "0e972e6e",
   "metadata": {},
   "outputs": [],
   "source": [
    "count = 0\n",
    "for i in compare.index:\n",
    "    if compare['pred'][i] == compare['true'][i]:\n",
    "        count += 1"
   ]
  },
  {
   "cell_type": "code",
   "execution_count": 21,
   "id": "3deec6da",
   "metadata": {},
   "outputs": [
    {
     "data": {
      "text/plain": [
       "91"
      ]
     },
     "execution_count": 21,
     "metadata": {},
     "output_type": "execute_result"
    }
   ],
   "source": [
    "count"
   ]
  },
  {
   "cell_type": "code",
   "execution_count": 22,
   "id": "d0cc39bb",
   "metadata": {},
   "outputs": [
    {
     "data": {
      "text/plain": [
       "'Starship Troopers continue sa descente aux enfers, ce troisième épisode nous livre une histoire complètement tordue et surtout des effets spéciaux qui frôlent le nanar.'"
      ]
     },
     "execution_count": 22,
     "metadata": {},
     "output_type": "execute_result"
    }
   ],
   "source": [
    "x_test[17]"
   ]
  },
  {
   "cell_type": "code",
   "execution_count": 24,
   "id": "c80e4ba6",
   "metadata": {},
   "outputs": [
    {
     "data": {
      "text/plain": [
       "SequenceClassifierOutput(loss=None, logits=tensor([[-1.6109, -0.7903,  0.0144,  0.7123,  1.0793]],\n",
       "       grad_fn=<AddmmBackward0>), hidden_states=None, attentions=None)"
      ]
     },
     "execution_count": 24,
     "metadata": {},
     "output_type": "execute_result"
    }
   ],
   "source": [
    "token = tokenizer.encode(x_test[17], return_tensors='pt')\n",
    "results = model(token)\n",
    "results"
   ]
  },
  {
   "cell_type": "code",
   "execution_count": null,
   "id": "c97779ef",
   "metadata": {},
   "outputs": [
    {
     "data": {
      "text/plain": [
       "SequenceClassifierOutput(loss=None, logits=tensor([[ 0.5294,  0.1691, -0.3994, -0.6874,  0.2138]],\n",
       "       grad_fn=<AddmmBackward0>), hidden_states=None, attentions=None)"
      ]
     },
     "execution_count": 28,
     "metadata": {},
     "output_type": "execute_result"
    }
   ],
   "source": [
    "essai = \"Starship Troopers continue sa descente aux enfers, ce troisième épisode nous livre une histoire complètement tordue\"\n",
    "token = tokenizer.encode(essai, return_tensors='pt')\n",
    "results = model(token)\n",
    "results"
   ]
  },
  {
   "cell_type": "code",
   "execution_count": 29,
   "id": "5e1aa95a",
   "metadata": {},
   "outputs": [
    {
     "name": "stderr",
     "output_type": "stream",
     "text": [
      "huggingface/tokenizers: The current process just got forked, after parallelism has already been used. Disabling parallelism to avoid deadlocks...\n",
      "To disable this warning, you can either:\n",
      "\t- Avoid using `tokenizers` before the fork if possible\n",
      "\t- Explicitly set the environment variable TOKENIZERS_PARALLELISM=(true | false)\n",
      "Some weights of BertForSequenceClassification were not initialized from the model checkpoint at dbmdz/bert-base-french-europeana-cased and are newly initialized: ['classifier.bias', 'classifier.weight']\n",
      "You should probably TRAIN this model on a down-stream task to be able to use it for predictions and inference.\n"
     ]
    }
   ],
   "source": [
    "tokenizer2 = AutoTokenizer.from_pretrained(\"dbmdz/bert-base-french-europeana-cased\")\n",
    "model2 = AutoModelForSequenceClassification.from_pretrained(\"dbmdz/bert-base-french-europeana-cased\")"
   ]
  },
  {
   "cell_type": "code",
   "execution_count": 30,
   "id": "5dd8505d",
   "metadata": {},
   "outputs": [
    {
     "data": {
      "text/plain": [
       "SequenceClassifierOutput(loss=None, logits=tensor([[-0.0326,  0.0437]], grad_fn=<AddmmBackward0>), hidden_states=None, attentions=None)"
      ]
     },
     "execution_count": 30,
     "metadata": {},
     "output_type": "execute_result"
    }
   ],
   "source": [
    "token = tokenizer2.encode(x_test[17], return_tensors='pt')\n",
    "results = model2(token)\n",
    "results"
   ]
  },
  {
   "cell_type": "code",
   "execution_count": null,
   "id": "c4c80d74",
   "metadata": {},
   "outputs": [],
   "source": []
  }
 ],
 "metadata": {
  "kernelspec": {
   "display_name": "venv",
   "language": "python",
   "name": "python3"
  },
  "language_info": {
   "codemirror_mode": {
    "name": "ipython",
    "version": 3
   },
   "file_extension": ".py",
   "mimetype": "text/x-python",
   "name": "python",
   "nbconvert_exporter": "python",
   "pygments_lexer": "ipython3",
   "version": "3.12.0"
  }
 },
 "nbformat": 4,
 "nbformat_minor": 5
}
